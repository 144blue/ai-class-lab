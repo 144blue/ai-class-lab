{
 "cells": [
  {
   "cell_type": "markdown",
   "metadata": {
    "colab_type": "text",
    "id": "xx_wnP2XOmPn"
   },
   "source": [
    "# numpy\n",
    "\n",
    "This library provides a convenient set of functions in order to process n-dimensional array data. The functions included in this package can deal with single numbers, arrays, matrices and much more.\n"
   ]
  },
  {
   "cell_type": "code",
   "execution_count": 1,
   "metadata": {},
   "outputs": [],
   "source": [
    "import numpy as np\n",
    "import matplotlib.pyplot as plt\n",
    "import math"
   ]
  },
  {
   "cell_type": "markdown",
   "metadata": {
    "colab_type": "text",
    "id": "A615JpGPQbyY"
   },
   "source": [
    "## Multidimensional array\n",
    "\n",
    "The main data structure in numpy is the homogenous multidimensional array. Let's break down the name:\n",
    "\n",
    "- Homogenous: All the data in the array is of the same type\n",
    "- Array: Data can be stored and accessed in arrays\n",
    "- Multidimensional: Arrays of data can be nested in as many levels as needed\n",
    "\n",
    "This data structure is indexed by a tuple of non-negative integers indicating the coordinates in each dimension (or `axis` in numpy terminology).\n"
   ]
  },
  {
   "cell_type": "code",
   "execution_count": 2,
   "metadata": {},
   "outputs": [
    {
     "name": "stdout",
     "output_type": "stream",
     "text": [
      "Type: <class 'numpy.ndarray'>\n",
      "Dimensions: 2\n",
      "Size: 6\n",
      "Shape: (2, 3)\n",
      "Type: int64\n",
      "Item size: 8\n",
      "\n"
     ]
    }
   ],
   "source": [
    "points_3d = np.array([\n",
    "  [1, 2, 1],\n",
    "  [0, 2, 3]\n",
    "])\n",
    "\n",
    "def describe_ndarray(ndarr):\n",
    "  print(f'Type: {type(ndarr)}')\n",
    "  print(f'Dimensions: {ndarr.ndim}')\n",
    "  print(f'Size: {ndarr.size}')\n",
    "  print(f'Shape: {ndarr.shape}')\n",
    "  print(f'Type: {ndarr.dtype.name}')\n",
    "  print(f'Item size: {ndarr.itemsize}')\n",
    "  print()\n",
    "\n",
    "describe_ndarray(points_3d)"
   ]
  },
  {
   "cell_type": "markdown",
   "metadata": {
    "colab_type": "text",
    "id": "hIeRau2vRqPo"
   },
   "source": [
    "These are the basic attibutes of a multidimensional array, from the [docs](https://numpy.org/devdocs/user/quickstart.html):\n",
    "\n",
    "\n",
    "- ndarray.ndim: the number of axes (dimensions) of the array.\n",
    "\n",
    "- ndarray.shape: the dimensions of the array. This is a tuple of integers indicating the size of the array in each dimension. For a matrix with n rows and m columns, shape will be (n,m). The length of the shape tuple is therefore the number of axes, ndim.\n",
    "\n",
    "- ndarray.size: the total number of elements of the array. This is equal to the product of the elements of shape.\n",
    "\n",
    "- ndarray.dtype: an object describing the type of the elements in the array. One can create or specify dtype’s using standard Python types. Additionally NumPy provides types of its own. numpy.int32, numpy.int16, and numpy.float64 are some examples.\n",
    "\n",
    "- ndarray.itemsize: the size in bytes of each element of the array. For example, an array of elements of type float64 has itemsize 8 (=64/8), while one of type complex32 has itemsize 4 (=32/8). It is equivalent to ndarray.dtype.itemsize.\n",
    "\n",
    "- ndarray.data: the buffer containing the actual elements of the array. Normally, we won’t need to use this attribute because we will access the elements in an array using indexing facilities.\n",
    "\n"
   ]
  },
  {
   "cell_type": "markdown",
   "metadata": {
    "colab_type": "text",
    "id": "t_kbVbkRSpxJ"
   },
   "source": [
    "## Initialization\n",
    "\n",
    "A numpy ndarray can be created in a variety of ways:\n",
    "\n",
    "`array` function:"
   ]
  },
  {
   "cell_type": "code",
   "execution_count": 3,
   "metadata": {},
   "outputs": [
    {
     "name": "stdout",
     "output_type": "stream",
     "text": [
      "An array:\n",
      " [1 2 3]\n",
      "Type: <class 'numpy.ndarray'>\n",
      "Dimensions: 1\n",
      "Size: 3\n",
      "Shape: (3,)\n",
      "Type: int64\n",
      "Item size: 8\n",
      "\n",
      "A matrix:\n",
      " [[1 2 3]\n",
      " [4 5 6]]\n",
      "Type: <class 'numpy.ndarray'>\n",
      "Dimensions: 2\n",
      "Size: 6\n",
      "Shape: (2, 3)\n",
      "Type: int64\n",
      "Item size: 8\n",
      "\n",
      "A array of list:\n",
      " [list([1, 2, 3]) list([4, 5, 6, 7, 8])]\n",
      "Type: <class 'numpy.ndarray'>\n",
      "Dimensions: 1\n",
      "Size: 2\n",
      "Shape: (2,)\n",
      "Type: object\n",
      "Item size: 8\n",
      "\n"
     ]
    }
   ],
   "source": [
    "arr = np.array([1, 2, 3])\n",
    "print('An array:\\n', arr)\n",
    "describe_ndarray(arr)\n",
    "\n",
    "mat = np.array([[1, 2, 3], [4, 5, 6]])\n",
    "print('A matrix:\\n', mat)\n",
    "describe_ndarray(mat)\n",
    "\n",
    "array_of_list = np.array([[1, 2, 3], [4, 5, 6, 7, 8]])\n",
    "print('A array of list:\\n', array_of_list)\n",
    "describe_ndarray(array_of_list)"
   ]
  },
  {
   "cell_type": "markdown",
   "metadata": {
    "colab_type": "text",
    "id": "FiC6RGq0UnMd"
   },
   "source": [
    "Using `zeros`, `ones` and `empty` functions you can create an array with placeholder values, this is useful for when the shape is known."
   ]
  },
  {
   "cell_type": "code",
   "execution_count": 4,
   "metadata": {},
   "outputs": [
    {
     "name": "stdout",
     "output_type": "stream",
     "text": [
      "Zeros:\n",
      " [[0. 0. 0.]\n",
      " [0. 0. 0.]]\n",
      "Ones:\n",
      " [[1. 1. 1.]\n",
      " [1. 1. 1.]]\n",
      "In memory values:\n",
      " [[1. 1. 1.]\n",
      " [1. 1. 1.]]\n"
     ]
    }
   ],
   "source": [
    "zeros = np.zeros((2, 3))\n",
    "print(\"Zeros:\\n\", zeros)\n",
    "\n",
    "ones = np.ones((2, 3))\n",
    "print(\"Ones:\\n\", ones)\n",
    "\n",
    "in_memory = np.empty((2, 3))\n",
    "print(\"In memory values:\\n\", in_memory)"
   ]
  },
  {
   "cell_type": "markdown",
   "metadata": {
    "colab_type": "text",
    "id": "l8sHV3iaWIEV"
   },
   "source": [
    "For ranges of numbers, `arange` can be used."
   ]
  },
  {
   "cell_type": "code",
   "execution_count": 5,
   "metadata": {},
   "outputs": [
    {
     "name": "stdout",
     "output_type": "stream",
     "text": [
      "[0 1 2 3 4 5 6 7 8 9]\n",
      "[2 3 4 5]\n",
      "[3.   3.33 3.66 3.99 4.32 4.65 4.98 5.31 5.64 5.97 6.3  6.63 6.96]\n"
     ]
    }
   ],
   "source": [
    "ara0 = np.arange(10)\n",
    "print(ara0)\n",
    "\n",
    "ara1 = np.arange(2, 6) # start and stop\n",
    "print(ara1)\n",
    "\n",
    "ara2 = np.arange(3, 7, 0.33) # start, stop and step (can be decimal)\n",
    "print(ara2)"
   ]
  },
  {
   "cell_type": "markdown",
   "metadata": {
    "colab_type": "text",
    "id": "BQ7FQKJAYE2n"
   },
   "source": [
    "In order to obtain ranges for certain evenly spaced distributions we can use:\n",
    "\n",
    "- `linspace`: linear distribution\n",
    "- `logspace`: logarithmic distribution"
   ]
  },
  {
   "cell_type": "code",
   "execution_count": 6,
   "metadata": {},
   "outputs": [
    {
     "name": "stdout",
     "output_type": "stream",
     "text": [
      "[0.         0.11111111 0.22222222 0.33333333 0.44444444 0.55555556\n",
      " 0.66666667 0.77777778 0.88888889 1.        ]\n",
      "[ 1.          1.29154967  1.66810054  2.15443469  2.7825594   3.59381366\n",
      "  4.64158883  5.9948425   7.74263683 10.        ]\n"
     ]
    },
    {
     "data": {
      "image/png": "[encoded data removed]",
      "text/plain": [
       "<Figure size 432x288 with 1 Axes>"
      ]
     },
     "metadata": {
      "needs_background": "light"
     },
     "output_type": "display_data"
    }
   ],
   "source": [
    "lin = np.linspace(0, 1, 10)\n",
    "print(lin)\n",
    "plt.plot(lin)\n",
    "\n",
    "log = np.logspace(0, 1, 10)\n",
    "print(log)\n",
    "_ = plt.plot(log)"
   ]
  },
  {
   "cell_type": "markdown",
   "metadata": {
    "colab_type": "text",
    "id": "AZHH6ITdZwIx"
   },
   "source": [
    "We can also generate other distributions with random numbers."
   ]
  },
  {
   "cell_type": "code",
   "execution_count": 7,
   "metadata": {},
   "outputs": [
    {
     "name": "stdout",
     "output_type": "stream",
     "text": [
      "[-2.46956977 -1.06086903 -0.1323486  ...  0.06765564 -0.45576281\n",
      " -1.63056454]\n"
     ]
    },
    {
     "data": {
      "image/png": "[encoded data removed]",
      "text/plain": [
       "<Figure size 432x288 with 1 Axes>"
      ]
     },
     "metadata": {
      "needs_background": "light"
     },
     "output_type": "display_data"
    }
   ],
   "source": [
    "norm = np.random.normal(size = 2000)\n",
    "print(norm)\n",
    "_ = plt.hist(norm, bins=100)"
   ]
  },
  {
   "cell_type": "code",
   "execution_count": 8,
   "metadata": {},
   "outputs": [
    {
     "name": "stdout",
     "output_type": "stream",
     "text": [
      "[0.43281638 0.91881986 0.59085327 ... 0.96934608 0.4805818  0.50441616]\n"
     ]
    },
    {
     "data": {
      "image/png": "[encoded data removed]",
      "text/plain": [
       "<Figure size 432x288 with 1 Axes>"
      ]
     },
     "metadata": {
      "needs_background": "light"
     },
     "output_type": "display_data"
    }
   ],
   "source": [
    "unif = np.random.uniform(size=2000, )\n",
    "print(unif)\n",
    "_ = plt.hist(unif)"
   ]
  },
  {
   "cell_type": "markdown",
   "metadata": {
    "colab_type": "text",
    "id": "7psf0MlQhuJo"
   },
   "source": [
    "ndarrays can also be created by using `reshape` on another `ndarray`."
   ]
  },
  {
   "cell_type": "code",
   "execution_count": 9,
   "metadata": {},
   "outputs": [
    {
     "name": "stdout",
     "output_type": "stream",
     "text": [
      "[0.         0.09090909 0.18181818 0.27272727 0.36363636 0.45454545\n",
      " 0.54545455 0.63636364 0.72727273 0.81818182 0.90909091 1.        ]\n",
      "[[0.         0.09090909 0.18181818 0.27272727]\n",
      " [0.36363636 0.45454545 0.54545455 0.63636364]\n",
      " [0.72727273 0.81818182 0.90909091 1.        ]]\n",
      "[[0.         0.09090909]\n",
      " [0.18181818 0.27272727]\n",
      " [0.36363636 0.45454545]\n",
      " [0.54545455 0.63636364]\n",
      " [0.72727273 0.81818182]\n",
      " [0.90909091 1.        ]]\n"
     ]
    }
   ],
   "source": [
    "arr = np.linspace(0, 1, 12)\n",
    "print(arr)\n",
    "\n",
    "reshaped0 = arr.reshape((3,4))\n",
    "print(reshaped0)\n",
    "\n",
    "reshaped1 = arr.reshape((6,-1)) # calculate other dimension automatically\n",
    "print(reshaped1)"
   ]
  },
  {
   "cell_type": "markdown",
   "metadata": {
    "colab_type": "text",
    "id": "slvlgf9uiZPc"
   },
   "source": [
    "Similarly, an array can be flattened with `ravel`."
   ]
  },
  {
   "cell_type": "code",
   "execution_count": 10,
   "metadata": {},
   "outputs": [
    {
     "name": "stdout",
     "output_type": "stream",
     "text": [
      "[[1 2 3]\n",
      " [4 5 6]\n",
      " [7 8 9]]\n",
      "[1 2 3 4 5 6 7 8 9]\n"
     ]
    }
   ],
   "source": [
    "arr = np.array([\n",
    "  [1, 2, 3],\n",
    "  [4, 5, 6],\n",
    "  [7, 8, 9]\n",
    "])\n",
    "print(arr)\n",
    "\n",
    "flat = arr.ravel()\n",
    "print(flat)"
   ]
  },
  {
   "cell_type": "markdown",
   "metadata": {
    "colab_type": "text",
    "id": "eSj2nD2WjkQL"
   },
   "source": [
    "The transpose can also be computed with `T`."
   ]
  },
  {
   "cell_type": "code",
   "execution_count": 11,
   "metadata": {},
   "outputs": [
    {
     "name": "stdout",
     "output_type": "stream",
     "text": [
      "[[1 1 1 1]\n",
      " [2 2 2 2]\n",
      " [3 3 3 3]]\n",
      "[[1 2 3]\n",
      " [1 2 3]\n",
      " [1 2 3]\n",
      " [1 2 3]]\n"
     ]
    }
   ],
   "source": [
    "arr = np.array([\n",
    "  [1, 1, 1, 1],\n",
    "  [2, 2, 2, 2],\n",
    "  [3, 3, 3, 3]\n",
    "])\n",
    "print(arr)\n",
    "\n",
    "transpose = arr.T\n",
    "print(transpose)"
   ]
  },
  {
   "cell_type": "markdown",
   "metadata": {
    "colab_type": "text",
    "id": "cTRPzSrWvxMI"
   },
   "source": [
    "## Access\n",
    "\n",
    "In order to access ndarrays we can make use of slicing like in normal python lists."
   ]
  },
  {
   "cell_type": "code",
   "execution_count": 12,
   "metadata": {},
   "outputs": [
    {
     "name": "stdout",
     "output_type": "stream",
     "text": [
      "[[ 0  1  2  3]\n",
      " [ 4  5  6  7]\n",
      " [ 8  9 10 11]\n",
      " [12 13 14 15]]\n",
      "\n",
      "Single value\n",
      " 5\n",
      "Clone \n",
      " [[ 0  1  2  3]\n",
      " [ 4  5  6  7]\n",
      " [ 8  9 10 11]\n",
      " [12 13 14 15]]\n",
      "Rows\n",
      " [[ 4  5  6  7]\n",
      " [ 8  9 10 11]]\n",
      "Columns\n",
      " [[ 1  2]\n",
      " [ 5  6]\n",
      " [ 9 10]\n",
      " [13 14]]\n",
      "Both\n",
      " [[ 5  6]\n",
      " [ 9 10]]\n"
     ]
    }
   ],
   "source": [
    "X = np.arange(16).reshape((4, 4))\n",
    "print(X)\n",
    "print()\n",
    "\n",
    "print('Single value\\n', X[1,1]) # single number\n",
    "print('Clone \\n', X[:,:]) # clone matrix\n",
    "print('Rows\\n', X[1:3,:]) # row access\n",
    "print('Columns\\n', X[:,1:3]) # column access\n",
    "print('Both\\n', X[1:3,1:3]) # both access"
   ]
  },
  {
   "cell_type": "markdown",
   "metadata": {
    "colab_type": "text",
    "id": "Zmre9WuoxGqJ"
   },
   "source": [
    "This can also be done with higher dimensional ndarrays."
   ]
  },
  {
   "cell_type": "code",
   "execution_count": 13,
   "metadata": {},
   "outputs": [
    {
     "name": "stdout",
     "output_type": "stream",
     "text": [
      "[[[ 0  1  2  3]\n",
      "  [ 4  5  6  7]\n",
      "  [ 8  9 10 11]\n",
      "  [12 13 14 15]]\n",
      "\n",
      " [[16 17 18 19]\n",
      "  [20 21 22 23]\n",
      "  [24 25 26 27]\n",
      "  [28 29 30 31]]\n",
      "\n",
      " [[32 33 34 35]\n",
      "  [36 37 38 39]\n",
      "  [40 41 42 43]\n",
      "  [44 45 46 47]]\n",
      "\n",
      " [[48 49 50 51]\n",
      "  [52 53 54 55]\n",
      "  [56 57 58 59]\n",
      "  [60 61 62 63]]]\n",
      "[[[21 22]\n",
      "  [25 26]]\n",
      "\n",
      " [[37 38]\n",
      "  [41 42]]]\n"
     ]
    }
   ],
   "source": [
    "A = np.arange(4**3).reshape((4, 4, 4))\n",
    "print(A)\n",
    "\n",
    "print(A[1:3,1:3,1:3])"
   ]
  },
  {
   "cell_type": "markdown",
   "metadata": {
    "colab_type": "text",
    "id": "GOmfxOtBkmuG"
   },
   "source": [
    "## Operations\n",
    "\n",
    "Arithmetic operations such as sums and products can be performed with the numeric binary operators for element-wise operations."
   ]
  },
  {
   "cell_type": "code",
   "execution_count": 14,
   "metadata": {},
   "outputs": [
    {
     "name": "stdout",
     "output_type": "stream",
     "text": [
      "[0 1 2 3 4]\n",
      "[5 6 7 8 9]\n",
      "\n",
      "Sum [ 5  7  9 11 13]\n",
      "Product [ 0  6 14 24 36]\n",
      "Difference [-5 -5 -5 -5 -5]\n",
      "Division [0.         0.16666667 0.28571429 0.375      0.44444444]\n",
      "Product [   1    6   49  512 6561]\n"
     ]
    }
   ],
   "source": [
    "a = np.arange(5)\n",
    "b = np.arange(5, 10)\n",
    "\n",
    "print(a)\n",
    "print(b)\n",
    "print()\n",
    "\n",
    "print('Sum', a + b)\n",
    "print('Product', a * b)\n",
    "print('Difference', a - b)\n",
    "print('Division', a / b)\n",
    "print('Product', b ** a)"
   ]
  },
  {
   "cell_type": "markdown",
   "metadata": {
    "colab_type": "text",
    "id": "gc04PQT_lqgh"
   },
   "source": [
    "These operations can also be done with singe elements."
   ]
  },
  {
   "cell_type": "code",
   "execution_count": 15,
   "metadata": {},
   "outputs": [
    {
     "name": "stdout",
     "output_type": "stream",
     "text": [
      "[0 1 2 3 4]\n",
      "\n",
      "Sum [10 11 12 13 14]\n",
      "Product [ 0 10 20 30 40]\n",
      "Difference [-5 -4 -3 -2 -1]\n",
      "Division [0.  0.5 1.  1.5 2. ]\n",
      "Product [ 0  1  4  9 16]\n",
      "Comparison [False False False  True  True]\n"
     ]
    }
   ],
   "source": [
    "a = np.arange(5)\n",
    "\n",
    "print(a)\n",
    "print()\n",
    "\n",
    "print('Sum', a + 10)\n",
    "print('Product', a * 10)\n",
    "print('Difference', a - 5)\n",
    "print('Division', a / 2)\n",
    "print('Product', a ** 2)\n",
    "print('Comparison', a > 2)"
   ]
  },
  {
   "cell_type": "markdown",
   "metadata": {
    "colab_type": "text",
    "id": "tCdGikJUmUZF"
   },
   "source": [
    "In matrices you can compute the matrix product using `@`."
   ]
  },
  {
   "cell_type": "code",
   "execution_count": 16,
   "metadata": {},
   "outputs": [
    {
     "name": "stdout",
     "output_type": "stream",
     "text": [
      "Matrix product [[ 6]\n",
      " [14]\n",
      " [22]]\n",
      "Element product [[ 1  4]\n",
      " [ 9 16]\n",
      " [25 36]]\n"
     ]
    }
   ],
   "source": [
    "A = np.array([\n",
    "  [1, 2],\n",
    "  [3, 4],\n",
    "  [5, 6]\n",
    "])\n",
    "\n",
    "B = np.array([\n",
    "  [2],\n",
    "  [2]\n",
    "])\n",
    "\n",
    "print('Matrix product', A @ B)\n",
    "print('Element product', A * A) # element wise"
   ]
  },
  {
   "cell_type": "markdown",
   "metadata": {
    "colab_type": "text",
    "id": "xrKjgdHanZC_"
   },
   "source": [
    "Unary operations can be performed as well."
   ]
  },
  {
   "cell_type": "code",
   "execution_count": 17,
   "metadata": {},
   "outputs": [
    {
     "name": "stdout",
     "output_type": "stream",
     "text": [
      "[[[ 0.42004617 -1.71045098]\n",
      "  [-0.56367738  0.25834404]\n",
      "  [-0.41057194 -1.06473703]]\n",
      "\n",
      " [[ 0.38311721  0.11952702]\n",
      "  [-0.51840446  0.48729388]\n",
      "  [ 1.263203    1.37046696]]\n",
      "\n",
      " [[-0.21096711  0.97732795]\n",
      "  [-1.27129214 -0.36740518]\n",
      "  [-1.39504505  1.71678428]]]\n",
      "Max 1.716784277153357\n",
      "Min -1.7104509841795958\n",
      "Mean -0.028691153670784873\n",
      "Sum -0.5164407660741277\n"
     ]
    }
   ],
   "source": [
    "ndarr = np.random.normal(size=18).reshape((3, 3, 2))\n",
    "print(ndarr)\n",
    "\n",
    "print('Max', ndarr.max())\n",
    "print('Min', ndarr.min())\n",
    "print('Mean', ndarr.mean())\n",
    "print('Sum', ndarr.sum())"
   ]
  },
  {
   "cell_type": "markdown",
   "metadata": {
    "colab_type": "text",
    "id": "ihDRBaCgogAR"
   },
   "source": [
    "These operations can be used along with the `axis` parameter in order to obtain results per dimension (axis)."
   ]
  },
  {
   "cell_type": "code",
   "execution_count": 18,
   "metadata": {},
   "outputs": [
    {
     "name": "stdout",
     "output_type": "stream",
     "text": [
      "[[1 5 2]\n",
      " [9 3 5]\n",
      " [4 6 0]]\n",
      "Max all 9\n",
      "Max 0 [9 6 5]\n",
      "Max 1 [5 9 6]\n"
     ]
    }
   ],
   "source": [
    "ndarr = np.array([\n",
    "  [1, 5, 2],\n",
    "  [9, 3, 5],\n",
    "  [4, 6, 0]\n",
    "])\n",
    "print(ndarr)\n",
    "\n",
    "print('Max all', ndarr.max()) # max of all values\n",
    "print('Max 0', ndarr.max(axis=0)) # max of each column\n",
    "print('Max 1', ndarr.max(axis=1)) # max of each row"
   ]
  },
  {
   "cell_type": "markdown",
   "metadata": {
    "colab_type": "text",
    "id": "WDWRdAvlyQw4"
   },
   "source": [
    "# Exercise\n",
    "\n",
    "Implement Strassens algorithm for matrix multiplication usling only numpy. The algorithm definition can be found in [Wikipedia](https://en.wikipedia.org/wiki/Strassen_algorithm).\n",
    "\n",
    "Below is some boilerplate to get started."
   ]
  },
  {
   "cell_type": "code",
   "execution_count": 19,
   "metadata": {},
   "outputs": [
    {
     "ename": "SyntaxError",
     "evalue": "invalid syntax (<ipython-input-19-5fb9b4c825a7>, line 18)",
     "output_type": "error",
     "traceback": [
      "\u001b[0;36m  File \u001b[0;32m\"<ipython-input-19-5fb9b4c825a7>\"\u001b[0;36m, line \u001b[0;32m18\u001b[0m\n\u001b[0;31m    A11 = # slice A\u001b[0m\n\u001b[0m                   ^\u001b[0m\n\u001b[0;31mSyntaxError\u001b[0m\u001b[0;31m:\u001b[0m invalid syntax\n"
     ]
    }
   ],
   "source": [
    "def strassen(A, B):\n",
    "  if True:\n",
    "    raise Exception('Inputs are not numpy ndarrays')\n",
    "  if True:\n",
    "    raise Exception('Inputs are not bidimensional')\n",
    "  if True:\n",
    "    raise Exception('Matrices are not squared')\n",
    "  if True:\n",
    "    raise Exception('Matrices are not of n power of two')\n",
    "  \n",
    "  n = len(A)\n",
    "\n",
    "  if n == 2:\n",
    "    return A @ B\n",
    "\n",
    "  h = n//2\n",
    "\n",
    "  A11 = # slice A\n",
    "  A12 = # slice A\n",
    "  A21 = # slice A\n",
    "  A22 = # slice A\n",
    "  B11 = # slice B\n",
    "  B12 = # slice B\n",
    "  B21 = # slice B\n",
    "  B22 = # slice B\n",
    "\n",
    "  M1 = # call strassen with corresponding matrices\n",
    "  M2 = # call strassen with corresponding matrices\n",
    "  M3 = # call strassen with corresponding matrices\n",
    "  M4 = # call strassen with corresponding matrices\n",
    "  M5 = # call strassen with corresponding matrices\n",
    "  M6 = # call strassen with corresponding matrices\n",
    "  M7 = # call strassen with corresponding matrices\n",
    "\n",
    "  C = numpy.zeros((n,n))\n",
    "  # set C values\n",
    "\n",
    "  return C"
   ]
  },
  {
   "cell_type": "code",
   "execution_count": null,
   "metadata": {},
   "outputs": [],
   "source": [
    "A = np.array([\n",
    "  [1, 2, 5, 5],\n",
    "  [3, 4, 9, 1],\n",
    "  [0, 2, 1, 0],\n",
    "  [4, 2, 7, 6],\n",
    "])\n",
    "\n",
    "B = np.array([\n",
    "  [4, 2, 8, 2],\n",
    "  [4, 4, 7, 6],\n",
    "  [3, 3, 9, 1],\n",
    "  [3, 4, 9, 2]\n",
    "])\n",
    "\n",
    "normal_mul = A @ B\n",
    "strassen_mul = strassen(A, B)\n",
    "\n",
    "print(normal_mul)\n",
    "print(strassen_mul)\n",
    "print((normal_mul == strassen_mul).all())"
   ]
  }
 ],
 "metadata": {
  "colab": {
   "collapsed_sections": [],
   "name": "numpy.ipynb",
   "provenance": []
  },
  "kernelspec": {
   "display_name": "Python 3",
   "language": "python",
   "name": "python3"
  },
  "language_info": {
   "codemirror_mode": {
    "name": "ipython",
    "version": 3
   },
   "file_extension": ".py",
   "mimetype": "text/x-python",
   "name": "python",
   "nbconvert_exporter": "python",
   "pygments_lexer": "ipython3",
   "version": "3.7.6"
  }
 },
 "nbformat": 4,
 "nbformat_minor": 1
}
